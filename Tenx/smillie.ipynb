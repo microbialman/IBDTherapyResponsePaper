{
 "cells": [
  {
   "cell_type": "code",
   "execution_count": 1,
   "metadata": {},
   "outputs": [],
   "source": [
    "source(\"/data/srlab/ik936/Fiona/utils.R\")\n",
    "source(\"/data/srlab/ik936/Fiona/libs.R\")\n"
   ]
  },
  {
   "cell_type": "markdown",
   "metadata": {},
   "source": [
    "# Load data"
   ]
  },
  {
   "cell_type": "code",
   "execution_count": 4,
   "metadata": {},
   "outputs": [],
   "source": [
    "library(presto)\n",
    "library(Matrix)\n",
    "sumOverRowNames <- function(X) {\n",
    "    name_factors <- factor(row.names(X))\n",
    "    res <- presto:::sumGroups.dgCMatrix(X, name_factors)\n",
    "    row.names(res) <- levels(name_factors)[1:nrow(res)]\n",
    "    colnames(res) <- colnames(X)\n",
    "    return(res)\n",
    "}\n",
    "\n",
    "read10x <- function(run, suffix) {\n",
    "    barcode.loc <- list.files(run, pattern = 'barcodes', full.names = TRUE)\n",
    "    gene.loc <- list.files(run, pattern = 'features.tsv|genes.tsv', full.names = TRUE)\n",
    "    matrix.loc <- list.files(run, pattern = 'matrix.mtx', full.names = TRUE)\n",
    "\n",
    "    data <- readMM(file = matrix.loc) %>% as(\"dgCMatrix\")\n",
    "    cell.names <- readLines(barcode.loc)\n",
    "    cell.names <- gsub(\"-1$\", \"\", cell.names)\n",
    "    if (!missing(suffix)) {\n",
    "        cell.names %<>% paste(suffix, sep = \"_\")\n",
    "    }\n",
    "        \n",
    "    gene.names <- fread(gene.loc, header = FALSE)$V1\n",
    "    row.names(data) <- gene.names\n",
    "    colnames(data) <- cell.names\n",
    "  \n",
    "    return(as(data, \"dgCMatrix\"))\n",
    "#     return(as(sumOverRowNames(data), \"dgCMatrix\"))\n",
    "}\n"
   ]
  },
  {
   "cell_type": "markdown",
   "metadata": {},
   "source": [
    "## metadata"
   ]
  },
  {
   "cell_type": "code",
   "execution_count": 5,
   "metadata": {},
   "outputs": [],
   "source": [
    "meta_data <- fread('data/broad/all.meta.txt')\n",
    "meta_data <- meta_data[2:nrow(meta_data), ] %>% data.frame()\n",
    "meta_data <- meta_data %>%\n",
    "    dplyr::mutate(Cluster = gsub('\\\\+', 'p', Cluster)) %>% \n",
    "    dplyr::mutate(Cluster = gsub(' ', '', Cluster)) %>% \n",
    "    dplyr::mutate(Cluster = gsub('-', 'Health', Cluster))\n",
    "\n",
    "row.names(meta_data) <- meta_data$NAME"
   ]
  },
  {
   "cell_type": "code",
   "execution_count": 6,
   "metadata": {},
   "outputs": [
    {
     "data": {
      "text/html": [
       "<table>\n",
       "<caption>A data.frame: 6 × 7</caption>\n",
       "<thead>\n",
       "\t<tr><th></th><th scope=col>NAME</th><th scope=col>Cluster</th><th scope=col>nGene</th><th scope=col>nUMI</th><th scope=col>Subject</th><th scope=col>Health</th><th scope=col>Location</th></tr>\n",
       "\t<tr><th></th><th scope=col>&lt;chr&gt;</th><th scope=col>&lt;chr&gt;</th><th scope=col>&lt;chr&gt;</th><th scope=col>&lt;chr&gt;</th><th scope=col>&lt;chr&gt;</th><th scope=col>&lt;chr&gt;</th><th scope=col>&lt;chr&gt;</th></tr>\n",
       "</thead>\n",
       "<tbody>\n",
       "\t<tr><th scope=row>N7.EpiA.AAACATACACACTG</th><td>N7.EpiA.AAACATACACACTG</td><td>TA1                  </td><td>328</td><td>891</td><td>N7</td><td>Non-inflamed</td><td>Epi</td></tr>\n",
       "\t<tr><th scope=row>N7.EpiA.AAACCGTGCATCAG</th><td>N7.EpiA.AAACCGTGCATCAG</td><td>TA1                  </td><td>257</td><td>663</td><td>N7</td><td>Non-inflamed</td><td>Epi</td></tr>\n",
       "\t<tr><th scope=row>N7.EpiA.AAACGCACAATCGC</th><td>N7.EpiA.AAACGCACAATCGC</td><td>TA2                  </td><td>300</td><td>639</td><td>N7</td><td>Non-inflamed</td><td>Epi</td></tr>\n",
       "\t<tr><th scope=row>N7.EpiA.AAAGATCTAACCGT</th><td>N7.EpiA.AAAGATCTAACCGT</td><td>EnterocyteProgenitors</td><td>250</td><td>649</td><td>N7</td><td>Non-inflamed</td><td>Epi</td></tr>\n",
       "\t<tr><th scope=row>N7.EpiA.AAAGATCTAGGCGA</th><td>N7.EpiA.AAAGATCTAGGCGA</td><td>EnterocyteProgenitors</td><td>284</td><td>769</td><td>N7</td><td>Non-inflamed</td><td>Epi</td></tr>\n",
       "\t<tr><th scope=row>N7.EpiA.AAAGCCTGCTCGAA</th><td>N7.EpiA.AAAGCCTGCTCGAA</td><td>EnterocyteProgenitors</td><td>339</td><td>951</td><td>N7</td><td>Non-inflamed</td><td>Epi</td></tr>\n",
       "</tbody>\n",
       "</table>\n"
      ],
      "text/latex": [
       "A data.frame: 6 × 7\n",
       "\\begin{tabular}{r|lllllll}\n",
       "  & NAME & Cluster & nGene & nUMI & Subject & Health & Location\\\\\n",
       "  & <chr> & <chr> & <chr> & <chr> & <chr> & <chr> & <chr>\\\\\n",
       "\\hline\n",
       "\tN7.EpiA.AAACATACACACTG & N7.EpiA.AAACATACACACTG & TA1                   & 328 & 891 & N7 & Non-inflamed & Epi\\\\\n",
       "\tN7.EpiA.AAACCGTGCATCAG & N7.EpiA.AAACCGTGCATCAG & TA1                   & 257 & 663 & N7 & Non-inflamed & Epi\\\\\n",
       "\tN7.EpiA.AAACGCACAATCGC & N7.EpiA.AAACGCACAATCGC & TA2                   & 300 & 639 & N7 & Non-inflamed & Epi\\\\\n",
       "\tN7.EpiA.AAAGATCTAACCGT & N7.EpiA.AAAGATCTAACCGT & EnterocyteProgenitors & 250 & 649 & N7 & Non-inflamed & Epi\\\\\n",
       "\tN7.EpiA.AAAGATCTAGGCGA & N7.EpiA.AAAGATCTAGGCGA & EnterocyteProgenitors & 284 & 769 & N7 & Non-inflamed & Epi\\\\\n",
       "\tN7.EpiA.AAAGCCTGCTCGAA & N7.EpiA.AAAGCCTGCTCGAA & EnterocyteProgenitors & 339 & 951 & N7 & Non-inflamed & Epi\\\\\n",
       "\\end{tabular}\n"
      ],
      "text/markdown": [
       "\n",
       "A data.frame: 6 × 7\n",
       "\n",
       "| <!--/--> | NAME &lt;chr&gt; | Cluster &lt;chr&gt; | nGene &lt;chr&gt; | nUMI &lt;chr&gt; | Subject &lt;chr&gt; | Health &lt;chr&gt; | Location &lt;chr&gt; |\n",
       "|---|---|---|---|---|---|---|---|\n",
       "| N7.EpiA.AAACATACACACTG | N7.EpiA.AAACATACACACTG | TA1                   | 328 | 891 | N7 | Non-inflamed | Epi |\n",
       "| N7.EpiA.AAACCGTGCATCAG | N7.EpiA.AAACCGTGCATCAG | TA1                   | 257 | 663 | N7 | Non-inflamed | Epi |\n",
       "| N7.EpiA.AAACGCACAATCGC | N7.EpiA.AAACGCACAATCGC | TA2                   | 300 | 639 | N7 | Non-inflamed | Epi |\n",
       "| N7.EpiA.AAAGATCTAACCGT | N7.EpiA.AAAGATCTAACCGT | EnterocyteProgenitors | 250 | 649 | N7 | Non-inflamed | Epi |\n",
       "| N7.EpiA.AAAGATCTAGGCGA | N7.EpiA.AAAGATCTAGGCGA | EnterocyteProgenitors | 284 | 769 | N7 | Non-inflamed | Epi |\n",
       "| N7.EpiA.AAAGCCTGCTCGAA | N7.EpiA.AAAGCCTGCTCGAA | EnterocyteProgenitors | 339 | 951 | N7 | Non-inflamed | Epi |\n",
       "\n"
      ],
      "text/plain": [
       "                       NAME                   Cluster               nGene nUMI\n",
       "N7.EpiA.AAACATACACACTG N7.EpiA.AAACATACACACTG TA1                   328   891 \n",
       "N7.EpiA.AAACCGTGCATCAG N7.EpiA.AAACCGTGCATCAG TA1                   257   663 \n",
       "N7.EpiA.AAACGCACAATCGC N7.EpiA.AAACGCACAATCGC TA2                   300   639 \n",
       "N7.EpiA.AAAGATCTAACCGT N7.EpiA.AAAGATCTAACCGT EnterocyteProgenitors 250   649 \n",
       "N7.EpiA.AAAGATCTAGGCGA N7.EpiA.AAAGATCTAGGCGA EnterocyteProgenitors 284   769 \n",
       "N7.EpiA.AAAGCCTGCTCGAA N7.EpiA.AAAGCCTGCTCGAA EnterocyteProgenitors 339   951 \n",
       "                       Subject Health       Location\n",
       "N7.EpiA.AAACATACACACTG N7      Non-inflamed Epi     \n",
       "N7.EpiA.AAACCGTGCATCAG N7      Non-inflamed Epi     \n",
       "N7.EpiA.AAACGCACAATCGC N7      Non-inflamed Epi     \n",
       "N7.EpiA.AAAGATCTAACCGT N7      Non-inflamed Epi     \n",
       "N7.EpiA.AAAGATCTAGGCGA N7      Non-inflamed Epi     \n",
       "N7.EpiA.AAAGCCTGCTCGAA N7      Non-inflamed Epi     "
      ]
     },
     "metadata": {},
     "output_type": "display_data"
    }
   ],
   "source": [
    "head(meta_data)"
   ]
  },
  {
   "cell_type": "markdown",
   "metadata": {},
   "source": [
    "## exprs"
   ]
  },
  {
   "cell_type": "code",
   "execution_count": 7,
   "metadata": {},
   "outputs": [],
   "source": [
    "library(singlecellmethods)\n",
    "exprs_fib <- read10x('/data/srlab/ik936/Fiona/data/broad/fib') %>% \n",
    "    normalizeData(scaling_factor = 1e4, method = 'log')\n",
    "exprs_imm <- read10x('/data/srlab/ik936/Fiona/data/broad/imm') %>% \n",
    "    normalizeData(scaling_factor = 1e4, method = 'log')\n",
    "exprs_epi <- read10x('/data/srlab/ik936/Fiona/data/broad/epi') %>% \n",
    "    normalizeData(scaling_factor = 1e4, method = 'log')"
   ]
  },
  {
   "cell_type": "code",
   "execution_count": 8,
   "metadata": {},
   "outputs": [],
   "source": [
    "## adds rows that are missing in each matrix\n",
    "## fills in missing rows with 0s\n",
    "cbind_incomplete <- function(X, Y) {\n",
    "    g1 <- row.names(X)\n",
    "    g2 <- row.names(Y)\n",
    "    genes_all <- union(g1, g2)\n",
    "    \n",
    "    genes_add_to_Y <- setdiff(g1, g2)\n",
    "    Y_add <- rsparsematrix(length(genes_add_to_Y), ncol(Y), 0)\n",
    "    row.names(Y_add) <- genes_add_to_Y\n",
    "    Y <- Matrix::rbind2(Y, Y_add)[genes_all, ]\n",
    "    \n",
    "    genes_add_to_X <- setdiff(g2, g1)\n",
    "    X_add <- rsparsematrix(length(genes_add_to_X), ncol(X), 0)\n",
    "    row.names(X_add) <- genes_add_to_X\n",
    "    X <- Matrix::rbind2(X, X_add)[genes_all, ]    \n",
    "    \n",
    "    Matrix::cbind2(X, Y)\n",
    "}\n"
   ]
  },
  {
   "cell_type": "code",
   "execution_count": 9,
   "metadata": {},
   "outputs": [],
   "source": [
    "exprs_all <- Reduce(cbind_incomplete, list(exprs_fib, exprs_imm, exprs_epi))"
   ]
  },
  {
   "cell_type": "code",
   "execution_count": 10,
   "metadata": {},
   "outputs": [
    {
     "data": {
      "text/html": [
       "<ol class=list-inline>\n",
       "\t<li>21784</li>\n",
       "\t<li>365492</li>\n",
       "</ol>\n"
      ],
      "text/latex": [
       "\\begin{enumerate*}\n",
       "\\item 21784\n",
       "\\item 365492\n",
       "\\end{enumerate*}\n"
      ],
      "text/markdown": [
       "1. 21784\n",
       "2. 365492\n",
       "\n",
       "\n"
      ],
      "text/plain": [
       "[1]  21784 365492"
      ]
     },
     "metadata": {},
     "output_type": "display_data"
    }
   ],
   "source": [
    "dim(exprs_all)"
   ]
  },
  {
   "cell_type": "code",
   "execution_count": 11,
   "metadata": {},
   "outputs": [],
   "source": [
    "saveRDS(exprs_all, '/data/srlab/ik936/Fiona/data/broad/exprs_norm_all.rds')"
   ]
  },
  {
   "cell_type": "markdown",
   "metadata": {},
   "source": [
    "# Load module data"
   ]
  },
  {
   "cell_type": "code",
   "execution_count": 7,
   "metadata": {},
   "outputs": [],
   "source": [
    "exprs_all <- readRDS('/data/srlab/ik936/Fiona/data/broad/exprs_norm_all.rds')"
   ]
  },
  {
   "cell_type": "code",
   "execution_count": 8,
   "metadata": {},
   "outputs": [],
   "source": [
    "modules <- fread('data/WGCNA_all.csv')[, N := .N, by = moduleColor][N < 2000]"
   ]
  },
  {
   "cell_type": "code",
   "execution_count": 10,
   "metadata": {},
   "outputs": [
    {
     "name": "stderr",
     "output_type": "stream",
     "text": [
      "Joining, by = \"geneName\"\n",
      "\n"
     ]
    }
   ],
   "source": [
    "mod_df <- data.table(geneName = row.names(exprs_all)) %>% \n",
    "    dplyr::left_join(modules) \n",
    "genes_use <- which(!is.na(mod_df$moduleColor))"
   ]
  },
  {
   "cell_type": "code",
   "execution_count": 11,
   "metadata": {},
   "outputs": [
    {
     "data": {
      "text/html": [
       "6324"
      ],
      "text/latex": [
       "6324"
      ],
      "text/markdown": [
       "6324"
      ],
      "text/plain": [
       "[1] 6324"
      ]
     },
     "metadata": {},
     "output_type": "display_data"
    }
   ],
   "source": [
    "length(genes_use)"
   ]
  },
  {
   "cell_type": "markdown",
   "metadata": {},
   "source": [
    "## joint expression matrix\n",
    "\n",
    "    normalize\n",
    "    scale"
   ]
  },
  {
   "cell_type": "code",
   "execution_count": 12,
   "metadata": {},
   "outputs": [
    {
     "data": {
      "text/html": [
       "<ol class=list-inline>\n",
       "\t<li>21784</li>\n",
       "\t<li>365492</li>\n",
       "</ol>\n"
      ],
      "text/latex": [
       "\\begin{enumerate*}\n",
       "\\item 21784\n",
       "\\item 365492\n",
       "\\end{enumerate*}\n"
      ],
      "text/markdown": [
       "1. 21784\n",
       "2. 365492\n",
       "\n",
       "\n"
      ],
      "text/plain": [
       "[1]  21784 365492"
      ]
     },
     "metadata": {},
     "output_type": "display_data"
    }
   ],
   "source": [
    "dim(exprs_all)"
   ]
  },
  {
   "cell_type": "code",
   "execution_count": 17,
   "metadata": {},
   "outputs": [],
   "source": [
    "exprs_scaled <- exprs_all[genes_use, ] %>% \n",
    "    scaleData() "
   ]
  },
  {
   "cell_type": "code",
   "execution_count": 17,
   "metadata": {},
   "outputs": [],
   "source": [
    "exprs_scaled %>% saveRDS('/data/srlab/ik936/Fiona/data/broad/exprs_scaled_all.rds')"
   ]
  },
  {
   "cell_type": "code",
   "execution_count": null,
   "metadata": {},
   "outputs": [],
   "source": [
    "dim(exprs_scaled)"
   ]
  },
  {
   "cell_type": "markdown",
   "metadata": {},
   "source": [
    "## Sum over types and modules"
   ]
  },
  {
   "cell_type": "code",
   "execution_count": null,
   "metadata": {},
   "outputs": [],
   "source": [
    "exprs_scaled <- readRDS('/data/srlab/ik936/Fiona/data/broad/exprs_scaled_all.rds')"
   ]
  },
  {
   "cell_type": "code",
   "execution_count": 15,
   "metadata": {},
   "outputs": [
    {
     "data": {
      "text/html": [
       "<table>\n",
       "<caption>A data.frame: 6 × 7</caption>\n",
       "<thead>\n",
       "\t<tr><th></th><th scope=col>NAME</th><th scope=col>Cluster</th><th scope=col>nGene</th><th scope=col>nUMI</th><th scope=col>Subject</th><th scope=col>Health</th><th scope=col>Location</th></tr>\n",
       "\t<tr><th></th><th scope=col>&lt;chr&gt;</th><th scope=col>&lt;chr&gt;</th><th scope=col>&lt;chr&gt;</th><th scope=col>&lt;chr&gt;</th><th scope=col>&lt;chr&gt;</th><th scope=col>&lt;chr&gt;</th><th scope=col>&lt;chr&gt;</th></tr>\n",
       "</thead>\n",
       "<tbody>\n",
       "\t<tr><th scope=row>N7.EpiA.AAACATACACACTG</th><td>N7.EpiA.AAACATACACACTG</td><td>TA1                  </td><td>328</td><td>891</td><td>N7</td><td>Non-inflamed</td><td>Epi</td></tr>\n",
       "\t<tr><th scope=row>N7.EpiA.AAACCGTGCATCAG</th><td>N7.EpiA.AAACCGTGCATCAG</td><td>TA1                  </td><td>257</td><td>663</td><td>N7</td><td>Non-inflamed</td><td>Epi</td></tr>\n",
       "\t<tr><th scope=row>N7.EpiA.AAACGCACAATCGC</th><td>N7.EpiA.AAACGCACAATCGC</td><td>TA2                  </td><td>300</td><td>639</td><td>N7</td><td>Non-inflamed</td><td>Epi</td></tr>\n",
       "\t<tr><th scope=row>N7.EpiA.AAAGATCTAACCGT</th><td>N7.EpiA.AAAGATCTAACCGT</td><td>EnterocyteProgenitors</td><td>250</td><td>649</td><td>N7</td><td>Non-inflamed</td><td>Epi</td></tr>\n",
       "\t<tr><th scope=row>N7.EpiA.AAAGATCTAGGCGA</th><td>N7.EpiA.AAAGATCTAGGCGA</td><td>EnterocyteProgenitors</td><td>284</td><td>769</td><td>N7</td><td>Non-inflamed</td><td>Epi</td></tr>\n",
       "\t<tr><th scope=row>N7.EpiA.AAAGCCTGCTCGAA</th><td>N7.EpiA.AAAGCCTGCTCGAA</td><td>EnterocyteProgenitors</td><td>339</td><td>951</td><td>N7</td><td>Non-inflamed</td><td>Epi</td></tr>\n",
       "</tbody>\n",
       "</table>\n"
      ],
      "text/latex": [
       "A data.frame: 6 × 7\n",
       "\\begin{tabular}{r|lllllll}\n",
       "  & NAME & Cluster & nGene & nUMI & Subject & Health & Location\\\\\n",
       "  & <chr> & <chr> & <chr> & <chr> & <chr> & <chr> & <chr>\\\\\n",
       "\\hline\n",
       "\tN7.EpiA.AAACATACACACTG & N7.EpiA.AAACATACACACTG & TA1                   & 328 & 891 & N7 & Non-inflamed & Epi\\\\\n",
       "\tN7.EpiA.AAACCGTGCATCAG & N7.EpiA.AAACCGTGCATCAG & TA1                   & 257 & 663 & N7 & Non-inflamed & Epi\\\\\n",
       "\tN7.EpiA.AAACGCACAATCGC & N7.EpiA.AAACGCACAATCGC & TA2                   & 300 & 639 & N7 & Non-inflamed & Epi\\\\\n",
       "\tN7.EpiA.AAAGATCTAACCGT & N7.EpiA.AAAGATCTAACCGT & EnterocyteProgenitors & 250 & 649 & N7 & Non-inflamed & Epi\\\\\n",
       "\tN7.EpiA.AAAGATCTAGGCGA & N7.EpiA.AAAGATCTAGGCGA & EnterocyteProgenitors & 284 & 769 & N7 & Non-inflamed & Epi\\\\\n",
       "\tN7.EpiA.AAAGCCTGCTCGAA & N7.EpiA.AAAGCCTGCTCGAA & EnterocyteProgenitors & 339 & 951 & N7 & Non-inflamed & Epi\\\\\n",
       "\\end{tabular}\n"
      ],
      "text/markdown": [
       "\n",
       "A data.frame: 6 × 7\n",
       "\n",
       "| <!--/--> | NAME &lt;chr&gt; | Cluster &lt;chr&gt; | nGene &lt;chr&gt; | nUMI &lt;chr&gt; | Subject &lt;chr&gt; | Health &lt;chr&gt; | Location &lt;chr&gt; |\n",
       "|---|---|---|---|---|---|---|---|\n",
       "| N7.EpiA.AAACATACACACTG | N7.EpiA.AAACATACACACTG | TA1                   | 328 | 891 | N7 | Non-inflamed | Epi |\n",
       "| N7.EpiA.AAACCGTGCATCAG | N7.EpiA.AAACCGTGCATCAG | TA1                   | 257 | 663 | N7 | Non-inflamed | Epi |\n",
       "| N7.EpiA.AAACGCACAATCGC | N7.EpiA.AAACGCACAATCGC | TA2                   | 300 | 639 | N7 | Non-inflamed | Epi |\n",
       "| N7.EpiA.AAAGATCTAACCGT | N7.EpiA.AAAGATCTAACCGT | EnterocyteProgenitors | 250 | 649 | N7 | Non-inflamed | Epi |\n",
       "| N7.EpiA.AAAGATCTAGGCGA | N7.EpiA.AAAGATCTAGGCGA | EnterocyteProgenitors | 284 | 769 | N7 | Non-inflamed | Epi |\n",
       "| N7.EpiA.AAAGCCTGCTCGAA | N7.EpiA.AAAGCCTGCTCGAA | EnterocyteProgenitors | 339 | 951 | N7 | Non-inflamed | Epi |\n",
       "\n"
      ],
      "text/plain": [
       "                       NAME                   Cluster               nGene nUMI\n",
       "N7.EpiA.AAACATACACACTG N7.EpiA.AAACATACACACTG TA1                   328   891 \n",
       "N7.EpiA.AAACCGTGCATCAG N7.EpiA.AAACCGTGCATCAG TA1                   257   663 \n",
       "N7.EpiA.AAACGCACAATCGC N7.EpiA.AAACGCACAATCGC TA2                   300   639 \n",
       "N7.EpiA.AAAGATCTAACCGT N7.EpiA.AAAGATCTAACCGT EnterocyteProgenitors 250   649 \n",
       "N7.EpiA.AAAGATCTAGGCGA N7.EpiA.AAAGATCTAGGCGA EnterocyteProgenitors 284   769 \n",
       "N7.EpiA.AAAGCCTGCTCGAA N7.EpiA.AAAGCCTGCTCGAA EnterocyteProgenitors 339   951 \n",
       "                       Subject Health       Location\n",
       "N7.EpiA.AAACATACACACTG N7      Non-inflamed Epi     \n",
       "N7.EpiA.AAACCGTGCATCAG N7      Non-inflamed Epi     \n",
       "N7.EpiA.AAACGCACAATCGC N7      Non-inflamed Epi     \n",
       "N7.EpiA.AAAGATCTAACCGT N7      Non-inflamed Epi     \n",
       "N7.EpiA.AAAGATCTAGGCGA N7      Non-inflamed Epi     \n",
       "N7.EpiA.AAAGCCTGCTCGAA N7      Non-inflamed Epi     "
      ]
     },
     "metadata": {},
     "output_type": "display_data"
    }
   ],
   "source": [
    "head(meta_data)"
   ]
  },
  {
   "cell_type": "code",
   "execution_count": 16,
   "metadata": {},
   "outputs": [
    {
     "data": {
      "text/html": [
       "365492"
      ],
      "text/latex": [
       "365492"
      ],
      "text/markdown": [
       "365492"
      ],
      "text/plain": [
       "[1] 365492"
      ]
     },
     "metadata": {},
     "output_type": "display_data"
    },
    {
     "data": {
      "text/html": [
       "365492"
      ],
      "text/latex": [
       "365492"
      ],
      "text/markdown": [
       "365492"
      ],
      "text/plain": [
       "[1] 365492"
      ]
     },
     "metadata": {},
     "output_type": "display_data"
    }
   ],
   "source": [
    "ncol(exprs_scaled)\n",
    "nrow(meta_data)"
   ]
  },
  {
   "cell_type": "code",
   "execution_count": 28,
   "metadata": {},
   "outputs": [
    {
     "data": {
      "text/html": [
       "<table>\n",
       "<caption>A data.frame: 6 × 7</caption>\n",
       "<thead>\n",
       "\t<tr><th></th><th scope=col>NAME</th><th scope=col>Cluster</th><th scope=col>nGene</th><th scope=col>nUMI</th><th scope=col>Subject</th><th scope=col>Health</th><th scope=col>Location</th></tr>\n",
       "\t<tr><th></th><th scope=col>&lt;chr&gt;</th><th scope=col>&lt;chr&gt;</th><th scope=col>&lt;chr&gt;</th><th scope=col>&lt;chr&gt;</th><th scope=col>&lt;chr&gt;</th><th scope=col>&lt;chr&gt;</th><th scope=col>&lt;chr&gt;</th></tr>\n",
       "</thead>\n",
       "<tbody>\n",
       "\t<tr><th scope=row>N7.EpiA.AAACATACACACTG</th><td>N7.EpiA.AAACATACACACTG</td><td>TA1                  </td><td>328</td><td>891</td><td>N7</td><td>Non-inflamed</td><td>Epi</td></tr>\n",
       "\t<tr><th scope=row>N7.EpiA.AAACCGTGCATCAG</th><td>N7.EpiA.AAACCGTGCATCAG</td><td>TA1                  </td><td>257</td><td>663</td><td>N7</td><td>Non-inflamed</td><td>Epi</td></tr>\n",
       "\t<tr><th scope=row>N7.EpiA.AAACGCACAATCGC</th><td>N7.EpiA.AAACGCACAATCGC</td><td>TA2                  </td><td>300</td><td>639</td><td>N7</td><td>Non-inflamed</td><td>Epi</td></tr>\n",
       "\t<tr><th scope=row>N7.EpiA.AAAGATCTAACCGT</th><td>N7.EpiA.AAAGATCTAACCGT</td><td>EnterocyteProgenitors</td><td>250</td><td>649</td><td>N7</td><td>Non-inflamed</td><td>Epi</td></tr>\n",
       "\t<tr><th scope=row>N7.EpiA.AAAGATCTAGGCGA</th><td>N7.EpiA.AAAGATCTAGGCGA</td><td>EnterocyteProgenitors</td><td>284</td><td>769</td><td>N7</td><td>Non-inflamed</td><td>Epi</td></tr>\n",
       "\t<tr><th scope=row>N7.EpiA.AAAGCCTGCTCGAA</th><td>N7.EpiA.AAAGCCTGCTCGAA</td><td>EnterocyteProgenitors</td><td>339</td><td>951</td><td>N7</td><td>Non-inflamed</td><td>Epi</td></tr>\n",
       "</tbody>\n",
       "</table>\n"
      ],
      "text/latex": [
       "A data.frame: 6 × 7\n",
       "\\begin{tabular}{r|lllllll}\n",
       "  & NAME & Cluster & nGene & nUMI & Subject & Health & Location\\\\\n",
       "  & <chr> & <chr> & <chr> & <chr> & <chr> & <chr> & <chr>\\\\\n",
       "\\hline\n",
       "\tN7.EpiA.AAACATACACACTG & N7.EpiA.AAACATACACACTG & TA1                   & 328 & 891 & N7 & Non-inflamed & Epi\\\\\n",
       "\tN7.EpiA.AAACCGTGCATCAG & N7.EpiA.AAACCGTGCATCAG & TA1                   & 257 & 663 & N7 & Non-inflamed & Epi\\\\\n",
       "\tN7.EpiA.AAACGCACAATCGC & N7.EpiA.AAACGCACAATCGC & TA2                   & 300 & 639 & N7 & Non-inflamed & Epi\\\\\n",
       "\tN7.EpiA.AAAGATCTAACCGT & N7.EpiA.AAAGATCTAACCGT & EnterocyteProgenitors & 250 & 649 & N7 & Non-inflamed & Epi\\\\\n",
       "\tN7.EpiA.AAAGATCTAGGCGA & N7.EpiA.AAAGATCTAGGCGA & EnterocyteProgenitors & 284 & 769 & N7 & Non-inflamed & Epi\\\\\n",
       "\tN7.EpiA.AAAGCCTGCTCGAA & N7.EpiA.AAAGCCTGCTCGAA & EnterocyteProgenitors & 339 & 951 & N7 & Non-inflamed & Epi\\\\\n",
       "\\end{tabular}\n"
      ],
      "text/markdown": [
       "\n",
       "A data.frame: 6 × 7\n",
       "\n",
       "| <!--/--> | NAME &lt;chr&gt; | Cluster &lt;chr&gt; | nGene &lt;chr&gt; | nUMI &lt;chr&gt; | Subject &lt;chr&gt; | Health &lt;chr&gt; | Location &lt;chr&gt; |\n",
       "|---|---|---|---|---|---|---|---|\n",
       "| N7.EpiA.AAACATACACACTG | N7.EpiA.AAACATACACACTG | TA1                   | 328 | 891 | N7 | Non-inflamed | Epi |\n",
       "| N7.EpiA.AAACCGTGCATCAG | N7.EpiA.AAACCGTGCATCAG | TA1                   | 257 | 663 | N7 | Non-inflamed | Epi |\n",
       "| N7.EpiA.AAACGCACAATCGC | N7.EpiA.AAACGCACAATCGC | TA2                   | 300 | 639 | N7 | Non-inflamed | Epi |\n",
       "| N7.EpiA.AAAGATCTAACCGT | N7.EpiA.AAAGATCTAACCGT | EnterocyteProgenitors | 250 | 649 | N7 | Non-inflamed | Epi |\n",
       "| N7.EpiA.AAAGATCTAGGCGA | N7.EpiA.AAAGATCTAGGCGA | EnterocyteProgenitors | 284 | 769 | N7 | Non-inflamed | Epi |\n",
       "| N7.EpiA.AAAGCCTGCTCGAA | N7.EpiA.AAAGCCTGCTCGAA | EnterocyteProgenitors | 339 | 951 | N7 | Non-inflamed | Epi |\n",
       "\n"
      ],
      "text/plain": [
       "                       NAME                   Cluster               nGene nUMI\n",
       "N7.EpiA.AAACATACACACTG N7.EpiA.AAACATACACACTG TA1                   328   891 \n",
       "N7.EpiA.AAACCGTGCATCAG N7.EpiA.AAACCGTGCATCAG TA1                   257   663 \n",
       "N7.EpiA.AAACGCACAATCGC N7.EpiA.AAACGCACAATCGC TA2                   300   639 \n",
       "N7.EpiA.AAAGATCTAACCGT N7.EpiA.AAAGATCTAACCGT EnterocyteProgenitors 250   649 \n",
       "N7.EpiA.AAAGATCTAGGCGA N7.EpiA.AAAGATCTAGGCGA EnterocyteProgenitors 284   769 \n",
       "N7.EpiA.AAAGCCTGCTCGAA N7.EpiA.AAAGCCTGCTCGAA EnterocyteProgenitors 339   951 \n",
       "                       Subject Health       Location\n",
       "N7.EpiA.AAACATACACACTG N7      Non-inflamed Epi     \n",
       "N7.EpiA.AAACCGTGCATCAG N7      Non-inflamed Epi     \n",
       "N7.EpiA.AAACGCACAATCGC N7      Non-inflamed Epi     \n",
       "N7.EpiA.AAAGATCTAACCGT N7      Non-inflamed Epi     \n",
       "N7.EpiA.AAAGATCTAGGCGA N7      Non-inflamed Epi     \n",
       "N7.EpiA.AAAGCCTGCTCGAA N7      Non-inflamed Epi     "
      ]
     },
     "metadata": {},
     "output_type": "display_data"
    }
   ],
   "source": [
    "head(meta_data)"
   ]
  },
  {
   "cell_type": "code",
   "execution_count": 44,
   "metadata": {},
   "outputs": [
    {
     "name": "stderr",
     "output_type": "stream",
     "text": [
      "Joining, by = \"geneName\"\n",
      "\n"
     ]
    }
   ],
   "source": [
    "y <- meta_data[colnames(exprs_scaled), ]$Cluster\n",
    "idx <- which(!is.na(y) & y != 'NA')\n",
    "y <- factor(y[idx])\n",
    "# exprs_use <- exprs_norm[, idx]\n",
    "\n",
    "mod_df <- data.table(geneName = row.names(exprs_scaled)) %>% \n",
    "    dplyr::left_join(modules) \n",
    "genes_use <- which(!is.na(mod_df$moduleColor))\n",
    "\n",
    "mod_df <- data.frame(mod_df)\n",
    "rownames(mod_df) <- mod_df$geneName\n"
   ]
  },
  {
   "cell_type": "code",
   "execution_count": 45,
   "metadata": {},
   "outputs": [],
   "source": [
    "# exprs_fib_mean <- presto:::sumGroups(exprs_fib, y, 1)\n",
    "exprs_fib_mean <- presto:::sumGroups(exprs_scaled, y, 1)\n",
    "exprs_fib_mean <- crossprod(exprs_fib_mean, diag(1 / table(y)))\n",
    "row.names(exprs_fib_mean) <- genes_use #row.names(obj$exprs_norm)\n",
    "colnames(exprs_fib_mean) <- levels(y)\n"
   ]
  },
  {
   "cell_type": "markdown",
   "metadata": {},
   "source": [
    "Get cluster x module"
   ]
  },
  {
   "cell_type": "code",
   "execution_count": 47,
   "metadata": {},
   "outputs": [],
   "source": [
    "y <- factor(mod_df[genes_use, 'moduleColor'])\n",
    "\n",
    "mod_means <- presto::sumGroups(exprs_fib_mean, y)\n",
    "mod_means <- crossprod(mod_means, diag(1 / table(y))) %>% t\n",
    "row.names(mod_means) <- levels(y)\n",
    "colnames(mod_means) <- colnames(exprs_fib_mean)\n"
   ]
  },
  {
   "cell_type": "code",
   "execution_count": 48,
   "metadata": {},
   "outputs": [
    {
     "data": {
      "text/html": [
       "<ol class=list-inline>\n",
       "\t<li>38</li>\n",
       "\t<li>51</li>\n",
       "</ol>\n"
      ],
      "text/latex": [
       "\\begin{enumerate*}\n",
       "\\item 38\n",
       "\\item 51\n",
       "\\end{enumerate*}\n"
      ],
      "text/markdown": [
       "1. 38\n",
       "2. 51\n",
       "\n",
       "\n"
      ],
      "text/plain": [
       "[1] 38 51"
      ]
     },
     "metadata": {},
     "output_type": "display_data"
    }
   ],
   "source": [
    "dim(mod_means)"
   ]
  },
  {
   "cell_type": "code",
   "execution_count": 46,
   "metadata": {},
   "outputs": [],
   "source": [
    "mod_means %>% saveRDS('/data/srlab/ik936/Fiona/data/scores_broad.rds')"
   ]
  },
  {
   "cell_type": "code",
   "execution_count": null,
   "metadata": {},
   "outputs": [],
   "source": []
  },
  {
   "cell_type": "raw",
   "metadata": {},
   "source": [
    "\n",
    "\n",
    "\n",
    "\n",
    "\n",
    "\n",
    "\n",
    "\n",
    "\n",
    "\n",
    "\n",
    "\n",
    "\n"
   ]
  }
 ],
 "metadata": {
  "kernelspec": {
   "display_name": "R",
   "language": "R",
   "name": "ir"
  },
  "language_info": {
   "codemirror_mode": "r",
   "file_extension": ".r",
   "mimetype": "text/x-r-source",
   "name": "R",
   "pygments_lexer": "r",
   "version": "3.6.2"
  }
 },
 "nbformat": 4,
 "nbformat_minor": 2
}
